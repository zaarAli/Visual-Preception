{
 "cells": [
  {
   "cell_type": "code",
   "execution_count": 1,
   "id": "7270db7a",
   "metadata": {},
   "outputs": [],
   "source": [
    "import numpy as np\n",
    "import matplotlib.pyplot as plt\n",
    "from mpl_toolkits.mplot3d import Axes3D\n",
    "from scipy.linalg import svd"
   ]
  },
  {
   "cell_type": "code",
   "execution_count": 2,
   "id": "c9b7147e",
   "metadata": {},
   "outputs": [],
   "source": [
    "def generate_world_points(length, width, height, num_points):\n",
    "\n",
    "    # Define the bounds for random points generation\n",
    "    x_min = -length/2\n",
    "    x_max = length/2\n",
    "    y_min = -width/2\n",
    "    y_max = width/2\n",
    "    z_min = -height/2\n",
    "    z_max = height/2\n",
    "\n",
    "    # Generate random points\n",
    "    x_rand = np.random.uniform(x_min, x_max, num_points-8)\n",
    "    y_rand = np.random.uniform(y_min, y_max, num_points-8)\n",
    "    z_rand = np.random.uniform(z_min, z_max, num_points-8)\n",
    "\n",
    "    # Combine the random points into a single array\n",
    "    points_rand = np.stack(\n",
    "        (x_rand, y_rand, z_rand, np.ones((num_points-8))), axis=1)\n",
    "\n",
    "    # Generate boundary points\n",
    "    x_bound = np.array([x_min, x_max, x_min, x_max,\n",
    "                       x_min, x_max, x_min, x_max])\n",
    "    y_bound = np.array([y_min, y_min, y_max, y_max,\n",
    "                       y_min, y_min, y_max, y_max])\n",
    "    z_bound = np.array([z_min, z_min, z_min, z_min,\n",
    "                       z_max, z_max, z_max, z_max])\n",
    "\n",
    "    # Combine the boundary points into a single array\n",
    "    points_bound = np.stack((x_bound, y_bound, z_bound, np.ones((8))), axis=1)\n",
    "\n",
    "    # Combine all the points\n",
    "    world_points = np.concatenate((points_rand, points_bound), axis=0)\n",
    "    \n",
    "    return world_points.T\n"
   ]
  },
  {
   "cell_type": "code",
   "execution_count": 3,
   "id": "2bc647d9",
   "metadata": {},
   "outputs": [],
   "source": [
    "def convert_to_radians(theeta_x, theeta_y, theeta_z):\n",
    "    #Convert the angle to theetha\n",
    "    theeta_x = theeta_x * np.pi/180\n",
    "    theeta_y = theeta_y * np.pi/180\n",
    "    theeta_z = theeta_z * np.pi/180\n",
    "\n",
    "    return theeta_x, theeta_y, theeta_z\n"
   ]
  },
  {
   "cell_type": "markdown",
   "id": "ba13d2c7",
   "metadata": {},
   "source": [
    "Projection Matrix :  $P_{mat}= M_{int} * M_{ext}$\n",
    "\n",
    "So we have : \n",
    "\n",
    "1. Intrinsic Paramters:\n",
    "\n",
    "$M_{int}=\n",
    "\\left[\\begin{matrix}\n",
    "fk_x & S & C_x & 0\\\\\n",
    "0 & fk_y & C_y & 0\\\\\n",
    "0 & 0 & 1 & 0\n",
    "\\end{matrix}\\right]$\n",
    "\n",
    "2. Extrinsic Paramters:\n",
    "$M_{ext}=\n",
    "\\left[\\begin{matrix}\n",
    "R & T\\\\\n",
    "0 & 1\n",
    "\\end{matrix}\\right]$\n",
    "\n",
    "\n",
    "$ T=\n",
    "\\left[\\begin{matrix}\n",
    "x \\\\\n",
    "y \\\\\n",
    "z \\\\\n",
    "1\n",
    "\\end{matrix}\\right]$\n",
    "\n",
    "We multiply these rotations to have the total rotation of the system: \n",
    "\n",
    "$R_t = R_z * R_y * R_z $\n",
    "\n",
    "with $\\beta$ is the angle of rotation around _'x'_, $\\alpha$ around _'y'_ and $\\theta$ around _'z'_ \n",
    "\n",
    "$R_{z}=\n",
    "\\left[\\begin{matrix}\n",
    "cos(\\theta) & -sin(\\theta) & 0\\\\\n",
    "sin(\\theta) & cos(\\theta) & 0 \\\\\n",
    "0 & 0 & 1 \n",
    "\\end{matrix}\\right]$\n",
    "\n",
    "\n",
    "$R_{y}=\n",
    "\\left[\\begin{matrix}\n",
    "cos(\\alpha) & 0 & sin(\\alpha)\\\\\n",
    " 0 & 1 & 0\\\\\n",
    "-sin(\\alpha) & 0 & cos(\\alpha) \n",
    "\\end{matrix}\\right]$\n",
    "\n",
    "\n",
    "$R_{x}=\n",
    "\\left[\\begin{matrix}\n",
    "1 & 0 & 0\\\\\n",
    "0 & cos(\\beta) & -sin(\\beta)\\\\\n",
    "0 & sin(\\beta) & cos(\\beta) \n",
    "\\end{matrix}\\right]$"
   ]
  },
  {
   "cell_type": "code",
   "execution_count": 4,
   "id": "d28d8bb5",
   "metadata": {},
   "outputs": [],
   "source": [
    "def calculate_rotation_matrix(theeta_x, theeta_y, theeta_z):\n",
    "    theeta_x, theeta_y, theeta_z = convert_to_radians(theeta_x, theeta_y, theeta_z)\n",
    "\n",
    "    # Rotation Matrix for 'x' orientation\n",
    "    Rx = np.array([\n",
    "        [1, 0, 0],\n",
    "        [0, np.cos(theeta_x), -np.sin(theeta_x)],\n",
    "        [0, np.sin(theeta_x), np.cos(theeta_x)],\n",
    "        [0, 0, 0]])\n",
    "\n",
    "    # Rotation Matrix for 'y' orientation\n",
    "    Ry = np.array([\n",
    "        [np.cos(theeta_y), 0, np.sin(theeta_y)],\n",
    "        [0, 1, 0],\n",
    "        [-np.sin(theeta_y), 0, np.cos(theeta_y)],\n",
    "        [0, 0, 0]])\n",
    "\n",
    "    # Rotation Matrix for 'z' orientation\n",
    "    Rz = np.matrix([\n",
    "        [np.cos(theeta_z), -np.sin(theeta_z), 0],\n",
    "        [np.sin(theeta_z), np.cos(theeta_z), 0],\n",
    "        [0, 0, 1],\n",
    "        [0, 0, 0]])\n",
    "\n",
    "    # Calculate the final rotation matrix R by multiplying Rz, Ry.T and Rx\n",
    "    R = np.dot(Rz, Ry.T)\n",
    "    R = np.dot(R, Rx)\n",
    "    return R\n"
   ]
  },
  {
   "cell_type": "code",
   "execution_count": 5,
   "id": "1e6e7214",
   "metadata": {},
   "outputs": [],
   "source": [
    "def translation_matrix(tx, ty, tz):\n",
    "    # Make the Rotation Matrix\n",
    "    t = np.array([[tx],\n",
    "                  [ty],\n",
    "                  [tz],\n",
    "                  [1]])\n",
    "    return t\n"
   ]
  },
  {
   "cell_type": "code",
   "execution_count": 6,
   "id": "f5b2321a",
   "metadata": {},
   "outputs": [],
   "source": [
    "def intrinsics(fx, fy, cx, cy, s):\n",
    "    # Define the camera intrinsic matrix\n",
    "    K = np.array([[fx, 0, 0, 0],\n",
    "                  [0, fy, 0, 0],\n",
    "                  [0,  0, 1, 0]])\n",
    "\n",
    "    I = np.array([[1, s, cx],\n",
    "                  [0, 1, cy],\n",
    "                  [0,  0, 1]])\n",
    "    \n",
    "    return I, K"
   ]
  },
  {
   "cell_type": "markdown",
   "id": "d99d0479",
   "metadata": {},
   "source": [
    "# Camera Simulation\n",
    "\n",
    "Now that we have the Extrinsic and Intrinsic Matrixes, we can now simulate a camera.\n",
    "To simulate a pinhole camera, the mathematical model is:\n",
    "$P_{image} = M_{intrinsics} * M_{Extrinsics} * P_{world}$"
   ]
  },
  {
   "cell_type": "code",
   "execution_count": 7,
   "id": "b4db5059",
   "metadata": {},
   "outputs": [],
   "source": [
    "def camera_simulation(X_world, fx, fy, cx, cy, s, R, t):\n",
    "\n",
    "    # Concatenate the rotation matrix and translation vector to get the extrinsic parameters matrix \"Rt\"\n",
    "    Rt = np.hstack((R, t))\n",
    "\n",
    "    I, K  = intrinsics(fx, fy, cx, cy, s)\n",
    "\n",
    "\n",
    "    print('The projection Matrix is: \\n', I @ K @ Rt)\n",
    "\n",
    "    # Project the 3D object points onto the image plane\n",
    "    x_image_hom = I @ K @ Rt @ X_world # perspective projection\n",
    "\n",
    "    # print(\"In Homogeneous coordinates, picture point are: \\n\", x_image_hom.T)\n",
    "\n",
    "    # normalize by the homogeneous coordinate \n",
    "    x_image_hom = np.true_divide(x_image_hom, x_image_hom[-1])\n",
    "    x_image_hom = np.array(x_image_hom, dtype=float)\n",
    "\n",
    "    # print(\"In Norm Homogeneous coordinates, picture point are: \\n\", x_image_hom.T)\n",
    "\n",
    "    x_image = x_image_hom[:-1]\n",
    "    x_image = np.array(x_image, dtype=float)\n",
    "    \n",
    "    # print(\"In Eculedian coordinates, picture point are: \\n\", x_image.T)\n",
    "    # print(\"In Eculedian coordinates, World point are: \\n\", X_world[:-1].T)\n",
    "\n",
    "    return x_image, X_world\n"
   ]
  },
  {
   "attachments": {},
   "cell_type": "markdown",
   "id": "cc4ba356",
   "metadata": {},
   "source": [
    "# Camera Calibration using DLT method:\n",
    "\n",
    "By using the DLT, we can estimate the Callibration matrix ($P_{3X4}$).\n",
    "\n",
    "## Sources:\n",
    "[**Prof. Dr. Cyrill Stachniss**](https://www.ipb.uni-bonn.de/people/cyrill-stachniss/)<br><br>\n",
    "[**Direct Linear Transform** -DLT- for Camera Calibration and Localization Slides by Prof. Dr. Cyrill Stachniss](https://www.ipb.uni-bonn.de/html/teaching/photo12-2021/2021-pho1-21-DLT.pptx.pdf)  <br><br>\n",
    "[Youtube Video of DLT by Prof. Dr. Cyrill Stachniss](https://www.youtube.com/watch?v=3NcQbZu6xt8&t=1s&ab_channel=CyrillStachniss)<br><br>"
   ]
  },
  {
   "cell_type": "code",
   "execution_count": 8,
   "id": "4cbf2792",
   "metadata": {},
   "outputs": [],
   "source": [
    "def camera_calibration_dlt(world_points, image_points):\n",
    "    \"\"\"\n",
    "    Calibrate camera using DLT method\n",
    "    :param world_points: 3D world points (nx3)\n",
    "    :param image_points: 2D image points (nx2)\n",
    "    :return: calibration matrix (3x4)\n",
    "    :NOTE: Some help was taken from the Notes of (Prof. Dr. Cyrill Stachniss) for the execution of this.\n",
    "    \"\"\"\n",
    "    # Get number of points\n",
    "    n = world_points.shape[0]\n",
    "    A = np.zeros((2*n, 12))\n",
    "\n",
    "    # Iterate through the points\n",
    "    for i in range(n):\n",
    "        # Get world point\n",
    "        X, Y, Z = world_points[i,:]\n",
    "        # Get image point\n",
    "        x, y = image_points[i,:]\n",
    "        # Construct the first & second row of matrix A\n",
    "        A[2*i, :] = [X, Y, Z, 1, 0, 0, 0, 0, -x*X, -x*Y, -x*Z, -x]\n",
    "        A[2*i+1, :] = [0, 0, 0, 0, X, Y, Z, 1, -y*X, -y*Y, -y*Z, -y]\n",
    "\n",
    "    # Perform singular value decomposition on A\n",
    "    U, S, VT = np.linalg.svd(A)\n",
    "    # Get the last row of VT which has the eign vector associated with the smallest eign value\n",
    "    P = VT[-1].reshape(3, 4)\n",
    "\n",
    "    P = P / P[2,2]\n",
    "\n",
    "    # Round off all entries of M to 2 decimal place\n",
    "    P = np.around(P, decimals=5)\n",
    "\n",
    "    # Return the matrix M\n",
    "    return P"
   ]
  },
  {
   "cell_type": "markdown",
   "id": "c653c5c2",
   "metadata": {},
   "source": [
    "# Ploting the World points in 3-D and Image points in 2-D"
   ]
  },
  {
   "cell_type": "code",
   "execution_count": 9,
   "id": "3f991e2b",
   "metadata": {},
   "outputs": [],
   "source": [
    "def visualize(x_image, X_world):\n",
    "\n",
    "    X_world = X_world[:-1]\n",
    "    X_world = np.array(X_world, dtype=float)\n",
    "\n",
    "    fig = plt.figure()\n",
    "    ax = fig.add_subplot(111, projection='3d')\n",
    "    ax.scatter(X_world[0], X_world[1], X_world[2], color = 'red', marker='X')\n",
    "    ax.set_xlabel('X')\n",
    "    ax.set_ylabel('Y')\n",
    "    ax.set_zlabel('Z')\n",
    "    plt.title(\"World Points in 3D\")\n",
    "    plt.show()\n",
    "\n",
    "    fig = plt.figure()\n",
    "    plt.scatter(x_image[0], x_image[1])\n",
    "    plt.xlabel('X')\n",
    "    plt.ylabel('Y')\n",
    "    plt.title(\"Image Points in 2D\")\n",
    "    plt.grid()\n",
    "    plt.show()\n"
   ]
  },
  {
   "cell_type": "markdown",
   "id": "876524de",
   "metadata": {},
   "source": [
    "# Defining the extrinsics and intrinsics Parameters.\n",
    "\n",
    "We can change the values of each parameter as we want from this part of the code."
   ]
  },
  {
   "cell_type": "code",
   "execution_count": 10,
   "id": "707b4928",
   "metadata": {},
   "outputs": [],
   "source": [
    "# Define the camera extrinsic parameters\n",
    "theeta_x = 0  # Orientation of camera in 'x' direction with refrence from the global frame\n",
    "theeta_y = 0  # Orientation of camera in 'y' direction with refrence from the global frame\n",
    "theeta_z = 0  # Orientation of camera in 'z' direction with refrence from the global frame\n",
    "tx = 0  # Translation of Camera in 'x' direction with refrence from the global frame\n",
    "ty = 0  # Translation of Camera in 'y' direction with refrence from the global frame\n",
    "tz = 0  # Translation of Camera in 'z' direction with refrence from the global frame\n"
   ]
  },
  {
   "cell_type": "code",
   "execution_count": 11,
   "id": "0c8a739b",
   "metadata": {},
   "outputs": [],
   "source": [
    "# Define the camera intrinsic parameters\n",
    "fx = 1.0  # focal length in x-direction\n",
    "fy = 1.0  # focal length in y-direction\n",
    "cx = 0.0  # principal point in x-direction\n",
    "cy = 0.0  # principal point in y-direction\n",
    "s =  0.0   # Skew for pixels"
   ]
  },
  {
   "cell_type": "code",
   "execution_count": 12,
   "id": "ca1ecd61",
   "metadata": {},
   "outputs": [],
   "source": [
    "# Define the size of the cube for the world co-ordinates\n",
    "length = 2\n",
    "width = 2\n",
    "height = 2\n",
    "num_points = 12 # Number of World points \n"
   ]
  },
  {
   "cell_type": "code",
   "execution_count": 13,
   "id": "4176ac90",
   "metadata": {},
   "outputs": [],
   "source": [
    "R = calculate_rotation_matrix(theeta_x, theeta_y, theeta_z)\n",
    "t = translation_matrix(tx, ty, tz)\n",
    "X_world = generate_world_points(length, width, height, num_points)\n",
    "# X_world = np.array([[1, 1, 1, 1], [1, 1, -1, 1], [1, -1, 1, 1], [1, -1, -1, 1], [-1, 1, 1, 1], [-1, 1, -1, 1], [-1, -1, 1, 1], [-1, -1, -1, 1], [1,-1,0.5, 1],[-1,0.5,1, 1],[0.5,1,1,1]]).T"
   ]
  },
  {
   "cell_type": "markdown",
   "id": "a3048bab",
   "metadata": {},
   "source": [
    "# Main body of the code"
   ]
  },
  {
   "cell_type": "code",
   "execution_count": 14,
   "id": "28cc37f6",
   "metadata": {},
   "outputs": [
    {
     "name": "stdout",
     "output_type": "stream",
     "text": [
      "The projection Matrix is: \n",
      " [[1. 0. 0. 0.]\n",
      " [0. 1. 0. 0.]\n",
      " [0. 0. 1. 0.]]\n",
      "The estimated Calibration Matrix is: \n",
      " [[ 1. -0.  0.  0.]\n",
      " [-0.  1.  0. -0.]\n",
      " [-0. -0.  1.  0.]]\n"
     ]
    },
    {
     "data": {
      "image/png": "[encoded data removed]",
      "text/plain": [
       "<Figure size 640x480 with 1 Axes>"
      ]
     },
     "metadata": {},
     "output_type": "display_data"
    },
    {
     "data": {
      "image/png": "[encoded data removed]",
      "text/plain": [
       "<Figure size 640x480 with 1 Axes>"
      ]
     },
     "metadata": {},
     "output_type": "display_data"
    }
   ],
   "source": [
    "# Perform the camera simulation\n",
    "x, X = camera_simulation(X_world, fx, fy, cx, cy, s, R, t)\n",
    "\n",
    "P_est = camera_calibration_dlt(X[:-1].T,x.T)\n",
    "print(\"The estimated Calibration Matrix is: \\n\", P_est)\n",
    "\n",
    "# Perform the visualization\n",
    "visualize(x, X)\n"
   ]
  },
  {
   "cell_type": "code",
   "execution_count": 15,
   "id": "b0032343",
   "metadata": {},
   "outputs": [],
   "source": [
    "def matrix_to_vector(A):\n",
    "    return A.reshape(-1)\n",
    "\n",
    "def skew_symmetric_matrix(v):\n",
    "    n = len(v)\n",
    "    skew_matrix = np.zeros((n, n))\n",
    "    for i in range(n):\n",
    "        for j in range(n):\n",
    "            if i == j:\n",
    "                continue\n",
    "            skew_matrix[i, j] = -v[j] if i < j else v[j]\n",
    "    return skew_matrix\n",
    "\n",
    "def kronecker_product(world_points, image_points):\n",
    "    return np.kron(world_points, image_points)"
   ]
  }
 ],
 "metadata": {
  "kernelspec": {
   "display_name": "Python 3 (ipykernel)",
   "language": "python",
   "name": "python3"
  },
  "language_info": {
   "codemirror_mode": {
    "name": "ipython",
    "version": 3
   },
   "file_extension": ".py",
   "mimetype": "text/x-python",
   "name": "python",
   "nbconvert_exporter": "python",
   "pygments_lexer": "ipython3",
   "version": "3.9.16"
  },
  "vscode": {
   "interpreter": {
    "hash": "a1f70c03a818578fafa160523bb9c397cdfd0531f87bbd4ce6ceae6031b301a4"
   }
  }
 },
 "nbformat": 4,
 "nbformat_minor": 5
}
